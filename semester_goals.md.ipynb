{
 "cells": [
  {
   "cell_type": "markdown",
   "id": "267cd1c2",
   "metadata": {},
   "source": [
    "# What do you wish to accomplish this semester in Data Mining?\n",
    "\n",
    "- By the end of the semester i would like to know how to work with different types of data. \n",
    "- I would also like to know how to extract data from differnt sources and the various methods of extracting.\n",
    "- By the end of the semester i would also like to know how to know how to work with the various tools such us *Jupyter*, *Anaconda* and *Python*.\n",
    "- I hope to have basic knowledge and understanding of **Markdown** and **Python** together with its intergration in Data Mining.\n",
    "- Finally, i hope to engage in exploring other frameworks such as **Tableau** and **R** in improving my understanding of Data Mining."
   ]
  }
 ],
 "metadata": {
  "kernelspec": {
   "display_name": "Python 3 (ipykernel)",
   "language": "python",
   "name": "python3"
  },
  "language_info": {
   "codemirror_mode": {
    "name": "ipython",
    "version": 3
   },
   "file_extension": ".py",
   "mimetype": "text/x-python",
   "name": "python",
   "nbconvert_exporter": "python",
   "pygments_lexer": "ipython3",
   "version": "3.10.4"
  }
 },
 "nbformat": 4,
 "nbformat_minor": 5
}
