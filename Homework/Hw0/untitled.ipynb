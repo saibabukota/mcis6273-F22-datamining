{
 "cells": [
  {
   "cell_type": "markdown",
   "id": "b0d9854f",
   "metadata": {},
   "source": [
    "## Zoreto Username\n",
    "**Nagasai.Devops@gmail.com**\n",
    "**Saibabu**\n",
    "\n",
    "## Three things learnt from the podcast\n",
    "\n",
    "1. They are good for bith  data analysis abd oresentations\n",
    "2. They have potential of going further than just code and documentations but they can also\n",
    "3. It is esy to support collaboration and share resulsts with others.\n",
    "\n",
    "\n",
    "\n",
    "## What is your reaction to the podcast? Pick at least one point Adam brought up in the interview that you agree with and list your reason why.\n",
    "\n",
    "Jupyter notebook is open-source software that has helped in collaboration and building. Different people can access and share information whether as software developers or as a scientist working on a research project. They all get to log in to the same notebook to share and compare notes. There are notebooks where you can program the notebook and edit it to look different and you also use a few lines of code to analyze data and also create different visualizations of the data in different ways for different purposes. The notebooks also have support for integers and libraries like Pandas for working with different computations and mathematical operations on the data. Scientific papers are dying slowly as notebooks are taking over. It is easier to show how the numbers and the computations are done in different parts of the computation analysis process using the notebook. Each line or calculation can be noted using the notebook and also the computations can be done at the same place.\n",
    "\n",
    "\n",
    "## After listening to the podcast, do you think you are more interested or less interested in learning from Jupyter notebooks on Github?\n",
    "\n",
    "Yes, I would really love to deep dive into the Jupyter notebook and its potential in data mining and visualizations. I hope to engage in working with it to document my research papers. I loved the collaboration and sharing of data within the notebook using the online version. My interest in data mining and visualizations has been established after listening to the podcast."
   ]
  },
  {
   "cell_type": "code",
   "execution_count": null,
   "id": "63c21d32",
   "metadata": {},
   "outputs": [],
   "source": []
  },
  {
   "cell_type": "markdown",
   "id": "5ea3d8c1",
   "metadata": {},
   "source": [
    "# What do you wish to accomplish this semester in Data Mining?\n",
    "\n",
    "- By the end of the semester i would like to know how to work with different types of data. \n",
    "- I would also like to know how to extract data from differnt sources and the various methods of extracting.\n",
    "- By the end of the semester i would also like to know how to know how to work with the various tools such us *Jupyter*, *Anaconda* and *Python*.\n",
    "- I hope to have basic knowledge and understanding of **Markdown** and **Python** together with its intergration in Data Mining.\n",
    "- Finally, i hope to engage in exploring other frameworks such as **Tableau** and **R** in improving my understanding of Data Mining.\n"
   ]
  },
  {
   "cell_type": "code",
   "execution_count": null,
   "id": "73818e20",
   "metadata": {},
   "outputs": [],
   "source": []
  }
 ],
 "metadata": {
  "kernelspec": {
   "display_name": "Python 3 (ipykernel)",
   "language": "python",
   "name": "python3"
  },
  "language_info": {
   "codemirror_mode": {
    "name": "ipython",
    "version": 3
   },
   "file_extension": ".py",
   "mimetype": "text/x-python",
   "name": "python",
   "nbconvert_exporter": "python",
   "pygments_lexer": "ipython3",
   "version": "3.10.4"
  }
 },
 "nbformat": 4,
 "nbformat_minor": 5
}
